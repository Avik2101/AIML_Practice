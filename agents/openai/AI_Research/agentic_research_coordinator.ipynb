{
 "cells": [
  {
   "cell_type": "code",
   "id": "initial_id",
   "metadata": {
    "collapsed": true,
    "ExecuteTime": {
     "end_time": "2025-05-04T16:40:38.422389Z",
     "start_time": "2025-05-04T16:40:38.416902Z"
    }
   },
   "source": [
    "# Importing necessary modules\n",
    "from agents import Agent, WebSearchTool, trace, Runner, gen_trace_id, function_tool\n",
    "from agents.model_settings import ModelSettings\n",
    "from pydantic import BaseModel\n",
    "from dotenv import load_dotenv\n",
    "import asyncio\n",
    "from IPython.display import display, Markdown"
   ],
   "outputs": [],
   "execution_count": 55
  },
  {
   "metadata": {
    "ExecuteTime": {
     "end_time": "2025-05-04T16:40:39.006655Z",
     "start_time": "2025-05-04T16:40:38.997055Z"
    }
   },
   "cell_type": "code",
   "source": [
    "# Load environment variables from a .env file\n",
    "load_dotenv(override=True)"
   ],
   "id": "23d7a9589db7d99",
   "outputs": [
    {
     "data": {
      "text/plain": [
       "True"
      ]
     },
     "execution_count": 56,
     "metadata": {},
     "output_type": "execute_result"
    }
   ],
   "execution_count": 56
  },
  {
   "metadata": {},
   "cell_type": "markdown",
   "source": [
    "# 🧠 Multi-Agent Research Workflow Using LLMs\n",
    "\n",
    "This project implements an **automated research pipeline** using an agent-based architecture. It utilizes large language models (LLMs) and web tools to simulate the collaborative workflow of a research team.\n",
    "\n",
    "---\n",
    "\n",
    "## 🔄 Workflow Summary\n",
    "\n",
    "Given a **research query**, the system performs the following:\n",
    "\n",
    "1. **🗂️ Planner Agent**\n",
    "   - Decomposes the query into focused search terms.\n",
    "   - Returns a list of search terms with reasoning.\n",
    "\n",
    "2. **🔍 Research Agent**\n",
    "   - Executes real-time web searches using the search terms.\n",
    "   - Summarizes findings in under 300 words per term.\n",
    "   - Uses succinct, research-friendly formatting without fluff.\n",
    "\n",
    "3. **📝 Writer Agent**\n",
    "   - Synthesizes all search results into a cohesive, structured markdown report.\n",
    "   - Outputs:\n",
    "     - A 2-3 sentence summary\n",
    "     - A full report (1000+ words)\n",
    "     - Suggested follow-up research questions\n",
    "          -\n",
    "## ⚙️ Technical Features\n",
    "\n",
    "- **Models & Tools**\n",
    "  - Uses `gpt-4o-mini` with required tool invocation\n",
    "  - Integrates a `WebSearchTool` for dynamic web data\n",
    "  - Configured via `ModelSettings`\n",
    "\n",
    "\n",
    "---\n"
   ],
   "id": "d97eefbe7a7627c7"
  },
  {
   "metadata": {
    "ExecuteTime": {
     "end_time": "2025-05-04T16:40:39.703012Z",
     "start_time": "2025-05-04T16:40:39.694285Z"
    }
   },
   "cell_type": "code",
   "source": [
    "# Instructions for the Planner Agent to generate web search terms\n",
    "HOW_MANY_SEARCHES = 3 # Number of searches to be performed\n",
    "INSTRUCTIONS = f\"\"\"\n",
    "You are a helpful research assistant. Given a query, come up with a set of web searches\n",
    "to perform to best answer the query. Output {HOW_MANY_SEARCHES} terms to query for.\n",
    "\"\"\"\n",
    "\n",
    "# Define the structure for a Web Search Item (search term and its reasoning)\n",
    "class WebSearchItem(BaseModel):\n",
    "    reason: str\n",
    "    \"\"\"Your reasoning for why this search is important to the query.\"\"\"\n",
    "\n",
    "    query: str\n",
    "    \"\"\"The search term to use for the web search.\"\"\"\n",
    "\n",
    "# Define the structure for a Web Search Plan (list of searches to perform)\n",
    "class WebSearchPlan(BaseModel):\n",
    "    searches: list[WebSearchItem]\n",
    "    \"\"\"A list of web searches to perform to best answer the query.\"\"\"\n",
    "\n",
    "# Initialize the Planner Agent with instructions and expected output type\n",
    "planner_agent = Agent(\n",
    "    name=\"PlannerAgent\",\n",
    "    instructions=INSTRUCTIONS,\n",
    "    model=\"gpt-4o-mini\",\n",
    "    output_type=WebSearchPlan,\n",
    ")"
   ],
   "id": "bd2c3a62ab7a2b08",
   "outputs": [],
   "execution_count": 57
  },
  {
   "metadata": {
    "ExecuteTime": {
     "end_time": "2025-05-04T16:40:40.800461Z",
     "start_time": "2025-05-04T16:40:40.794927Z"
    }
   },
   "cell_type": "code",
   "source": [
    "# Instructions for the Research Agent\n",
    "INSTRUCTIONS = \"\"\"\n",
    "You are a research assistant. Given a search term, you search the web for that term and\n",
    "produce a concise summary of the results. The summary must be 2-3 paragraphs and less than 300\n",
    "words. Capture the main points. Write succinctly, no need to have complete sentences or good\n",
    "grammar. This will be consumed by someone synthesizing a report, so it's vital you capture the\n",
    "essence and ignore any fluff. Do not include any additional commentary other than the summary itself.\n",
    "\"\"\"\n",
    "\n",
    "# Initialize the Research Agent with specific tools and settings\n",
    "research_agent = Agent(\n",
    "    name=\"Research agent\",  # Agent's name\n",
    "    instructions=INSTRUCTIONS,  # Agent's instructions\n",
    "    tools=[WebSearchTool(search_context_size=\"medium\")],  # Tool for web search with low context size\n",
    "    model=\"gpt-4o-mini\"  # Model to be used\n",
    ")\n"
   ],
   "id": "972f99272ab9c0b0",
   "outputs": [],
   "execution_count": 58
  },
  {
   "metadata": {
    "ExecuteTime": {
     "end_time": "2025-05-04T16:40:41.870937Z",
     "start_time": "2025-05-04T16:40:41.864244Z"
    }
   },
   "cell_type": "code",
   "source": [
    "# Instructions for the Writer Agent to generate a report\n",
    "INSTRUCTIONS = \"\"\"\n",
    "You are a senior researcher tasked with writing a cohesive report for a research query.\n",
    "You will be provided with the original query, and some initial research done by a research assistant.\n",
    "The final output should be in markdown format, and it should be lengthy and detailed.\n",
    "\"\"\"\n",
    "\n",
    "# Define the structure for the report data (short summary, full markdown report, and follow-up questions)\n",
    "class ReportData(BaseModel):\n",
    "    short_summary: str\n",
    "    \"\"\"A short 2-3 sentence summary of the findings.\"\"\"\n",
    "\n",
    "    markdown_report: str\n",
    "    \"\"\"The final report\"\"\"\n",
    "\n",
    "    follow_up_questions: list[str]\n",
    "    \"\"\"Suggested topics to research further\"\"\"\n",
    "\n",
    "# Initialize the Writer Agent with instructions and expected output type\n",
    "writer_agent = Agent(\n",
    "    name=\"WriterAgent\",\n",
    "    instructions=INSTRUCTIONS,\n",
    "    model=\"gpt-4o-mini\",\n",
    "    output_type=ReportData,\n",
    ")"
   ],
   "id": "adc4634c8251ced6",
   "outputs": [],
   "execution_count": 59
  },
  {
   "metadata": {
    "ExecuteTime": {
     "end_time": "2025-05-04T16:40:43.021399Z",
     "start_time": "2025-05-04T16:40:43.013352Z"
    }
   },
   "cell_type": "code",
   "source": [
    "# Asynchronous function to plan which searches to perform for a given query\n",
    "async def plan_searches(query: str):\n",
    "    \"\"\"Use the planner_agent to plan which searches to run for the query.\"\"\"\n",
    "    print(\"\\n PLANNER AGENT:: Planning searches...\")\n",
    "    # Use the Runner to execute the planner agent with the query\n",
    "    result = await Runner.run(planner_agent, f\"Query: {query}\")\n",
    "    print(f\"\\n PLANNER AGENT:: Will perform {len(result.final_output.searches)} searches\")\n",
    "    return result.final_output\n",
    "\n",
    "# Asynchronous function to perform searches based on the search plan\n",
    "async def perform_searches(search_plan: WebSearchPlan):\n",
    "    \"\"\"Call search() for each item in the search plan.\"\"\"\n",
    "    print(\"\\n RESEARCH AGENT :: Started researching...\")\n",
    "    # Create tasks for each search item and execute them concurrently\n",
    "    tasks = [asyncio.create_task(search(item)) for item in search_plan.searches]\n",
    "    results = await asyncio.gather(*tasks)\n",
    "    print(\"\\n RESEARCH AGENT :: Finished researching\")\n",
    "    return results\n",
    "\n",
    "# Asynchronous function to perform a search using the Research Agent\n",
    "async def search(item: WebSearchItem):\n",
    "    \"\"\"Use the search agent to run a web search for each item in the search plan.\"\"\"\n",
    "    input = f\"Search term: {item.query}\\nReason for searching: {item.reason}\"\n",
    "    # Run the research agent with the search term and reasoning\n",
    "    result = await Runner.run(research_agent, input)\n",
    "    return result.final_output\n",
    "\n",
    "# Asynchronous function to write a report based on search results\n",
    "async def write_report(query: str, search_results: list[str]):\n",
    "    \"\"\"Use the writer agent to write a report based on the search results.\"\"\"\n",
    "    print(\"\\n WRITER AGENT :: Thinking about report...\")\n",
    "    input = f\"Original query: {query}\\nSummarized search results: {search_results}\"\n",
    "    # Run the writer agent with the original query and summarized search results\n",
    "    result = await Runner.run(writer_agent, input)\n",
    "    print(\"\\n WRITER AGENT :: Completed the report...\")\n",
    "    return result.final_output"
   ],
   "id": "dae29fe1b744b8c5",
   "outputs": [],
   "execution_count": 60
  },
  {
   "metadata": {
    "ExecuteTime": {
     "end_time": "2025-05-04T17:23:00.435645Z",
     "start_time": "2025-05-04T17:22:27.215558Z"
    }
   },
   "cell_type": "code",
   "source": [
    "# Define the research query to be processed\n",
    "query = \"2025 Agentic usecases in US Healthcare\"\n",
    "\n",
    "# Use the trace context manager to capture the research process\n",
    "with trace(\"Research trace\"):\n",
    "    print(\"\\n Starting Research Workflow Orchestration...\")\n",
    "    # Step 1: Plan which searches to perform for the query\n",
    "    search_plan = await plan_searches(query)\n",
    "    # Step 2: Perform the searches based on the search plan\n",
    "    search_results = await perform_searches(search_plan)\n",
    "    # Step 3: Write a detailed report based on the search results\n",
    "    report = await write_report(query, search_results)\n",
    "\n",
    "# https://platform.openai.com/traces"
   ],
   "id": "e4bbbeaf2503ae63",
   "outputs": [
    {
     "name": "stdout",
     "output_type": "stream",
     "text": [
      "\n",
      " Starting Research Workflow Orchestration...\n",
      "\n",
      " PLANNER AGENT:: Planning searches...\n",
      "\n",
      " PLANNER AGENT:: Will perform 3 searches\n",
      "\n",
      " RESEARCH AGENT :: Started researching...\n",
      "\n",
      " RESEARCH AGENT :: Finished researching\n",
      "\n",
      " WRITER AGENT :: Thinking about report...\n",
      "\n",
      " WRITER AGENT :: Completed the report...\n"
     ]
    }
   ],
   "execution_count": 65
  },
  {
   "metadata": {
    "ExecuteTime": {
     "end_time": "2025-05-04T17:23:17.588772Z",
     "start_time": "2025-05-04T17:23:17.577623Z"
    }
   },
   "cell_type": "code",
   "source": [
    "display(Markdown(report.short_summary))\n",
    "display(Markdown(report.markdown_report))\n",
    "follow_up_questions_text = \"\\n\".join(f\"- {q}\" for q in report.follow_up_questions)\n",
    "display(Markdown(follow_up_questions_text))"
   ],
   "id": "9baee40554fbc27e",
   "outputs": [
    {
     "data": {
      "text/plain": [
       "<IPython.core.display.Markdown object>"
      ],
      "text/markdown": "By 2025, agentic AI is poised to fundamentally change U.S. healthcare, focusing on automation in patient care, personalized treatment plans, and operational efficiency. Key applications include advanced patient monitoring, seamless integration with electronic health records, and innovative digital solutions for chronic disease management."
     },
     "metadata": {},
     "output_type": "display_data"
    },
    {
     "data": {
      "text/plain": [
       "<IPython.core.display.Markdown object>"
      ],
      "text/markdown": "# Agentic AI Use Cases in U.S. Healthcare by 2025\n\n## Introduction\nAgentic AI, characterized by its ability to operate autonomously without human intervention, is set to play a crucial role in revolutionizing healthcare delivery in the U.S. by 2025. This report explores the anticipated use cases of agentic AI in various healthcare sectors, its market outlook, and the implications for patient care and operational efficiency.\n\n## Key Applications of Agentic AI in Healthcare\nThe integration of agentic AI in healthcare focuses on enhancing efficiency and improving patient outcomes through various innovative applications.\n\n### 1. Patient Monitoring\n- **Continuous Tracking**: AI agents are expected to utilize wearables and IoT devices to continuously monitor patient vitals. This capability facilitates real-time alerts and allows healthcare providers to implement proactive interventions, significantly improving patient outcomes.\n\n- **Remote Patient Monitoring (RPM)**: RPM technologies will offer healthcare organizations new opportunities to track patient health outside of clinical settings, thereby reducing hospital admissions and supporting a hospital-at-home model for acute care services.\n\n### 2. Personalized Treatment Plans\n- **Data-Driven Strategies**: By analyzing genetic, environmental, and lifestyle factors, AI systems will generate personalized treatment strategies tailored to individual patient profiles. This customization aims to enhance treatment effectiveness and minimize adverse side effects.\n\n### 3. Workflow Optimization\n- **Administrative Efficiency**: AI's integration into Electronic Health Records (EHRs) is expected to significantly reduce documentation time by up to 50%. This automation will relieve healthcare providers from numerous administrative burdens, allowing them to focus on patient care rather than paperwork.\n\n- **Revenue Cycle Management**: Using AI tools such as VoiceCare's \"Joy\", healthcare facilities can streamline processes like insurance verification and claims processing, thereby reducing manual workloads and enhancing revenue cycle management.\n\n### 4. Clinical Decision Support\n- **Integrated Insights**: AI will enhance clinical decision-making by providing data-driven insights that integrate with EHRs, supporting clinicians in identifying appropriate diagnoses and treatment plans faster and more accurately.\n\n### 5. Digital Therapeutics\n- **Chronic Disease Management**: Digital therapeutics emerging as non-invasive solutions can help in the management of chronic diseases and preventive care. These solutions provide patients with accessible tools to manage their health effectively.\n\n### 6. Patient Engagement\n- **Predictive Analytics**: AI systems like Actium Health's CENTARI™ can analyze patient data to predict health needs and preferences, significantly improving patient engagement. In pilot projects, this has led to a remarkable 380% increase in wellness visits.\n\n- **Medication Adherence Monitoring**: Workflows powered by AI can monitor patients' medication schedules, sending alerts and reminders to ensure adherence, which has shown to improve rates by 25%.\n\n### 7. Preoperative Support\n- **AI-Powered Digital Avatars**: Innovations like the digital avatar developed by Nvidia provide patients with 24/7 access to surgical information, aiming to alleviate anxiety and improve pre-surgical experiences.\n\n## Market Outlook\nThe market for agentic AI technologies in healthcare is projected to grow significantly, reaching an estimated **$4.96 billion** by 2030. This growth is largely attributed to ongoing advancements in areas such as patient monitoring, personalized healthcare, and workflow optimizations.\n\nThe investments in AI technologies are likely to foster an environment where healthcare providers can deliver improved patient-centered care, paving the way for a healthcare landscape that prioritizes efficiency, accessibility, and superior outcomes.\n\n## Challenges and Considerations\nWhile the prospects for agentic AI in healthcare are promising, several challenges need to be addressed:\n- **Data Privacy and Cybersecurity**: With increased reliance on AI, the safeguarding of sensitive patient information is paramount. Healthcare organizations must ensure compliance with regulations and implement robust cybersecurity measures to protect against potential breaches.\n- **Integration and Interoperability**: As organizations adopt various AI solutions, achieving seamless interoperability across systems to ensure coordinated care will be essential.\n- **Acceptance and Trust**: Building trust among healthcare providers and patients in AI-driven solutions is crucial, requiring transparency and demonstrated benefits of AI interventions.\n\n## Conclusion\nIn conclusion, agentic AI is anticipated to significantly transform U.S. healthcare by 2025 through applications aimed at automating routine tasks and enhancing personalized patient care. The trends indicate a shift towards more efficient healthcare delivery models, though challenges related to data privacy, system integration, and trust will need to be navigated carefully. By leveraging these technologies, the healthcare sector can enhance operational efficacy and outcomes, ultimately leading to a more patient-centric approach to health management."
     },
     "metadata": {},
     "output_type": "display_data"
    },
    {
     "data": {
      "text/plain": [
       "<IPython.core.display.Markdown object>"
      ],
      "text/markdown": "- What specific AI technologies are being implemented in U.S. healthcare currently?\n- How are healthcare providers addressing data privacy concerns with the integration of AI?\n- What is the expected impact of AI on healthcare costs by 2025?\n- How do patients perceive the use of agentic AI in their care?\n- What regulatory frameworks are in place to govern the use of AI in healthcare?"
     },
     "metadata": {},
     "output_type": "display_data"
    }
   ],
   "execution_count": 66
  }
 ],
 "metadata": {
  "kernelspec": {
   "display_name": "Python 3",
   "language": "python",
   "name": "python3"
  },
  "language_info": {
   "codemirror_mode": {
    "name": "ipython",
    "version": 2
   },
   "file_extension": ".py",
   "mimetype": "text/x-python",
   "name": "python",
   "nbconvert_exporter": "python",
   "pygments_lexer": "ipython2",
   "version": "2.7.6"
  }
 },
 "nbformat": 4,
 "nbformat_minor": 5
}
